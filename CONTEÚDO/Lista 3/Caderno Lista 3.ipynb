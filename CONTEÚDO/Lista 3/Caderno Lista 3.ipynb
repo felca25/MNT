{
 "cells": [
  {
   "cell_type": "code",
   "execution_count": null,
   "metadata": {},
   "outputs": [],
   "source": [
    "import numpy as np\n",
    "from matplotlib import pyplot as plt"
   ]
  },
  {
   "cell_type": "markdown",
   "metadata": {},
   "source": [
    "# Método das diferenças finitas\n",
    "\n",
    "## Aproximando derivadas espaciais\n",
    "\n",
    "A segunda parte do método das diferenças finitas consiste em aproximar as derivadas através de Séries de Taylor.\n",
    "\n",
    "$$\n",
    "T^{k}_{i+1} = T^k_{i} + \\frac{\\Delta x}{1!} \\frac{\\partial T}{\\partial x} \\bigg|_{x_i, t_k} + \\frac{\\Delta x ^2}{2!} \\frac{\\partial ^ 2 T}{\\partial x ^ 2} \\bigg|_{x_i, t_k} + ...\n",
    "$$\n",
    "\n",
    "podemos reescrever como,\n",
    "\n",
    "$$\n",
    "\\frac{\\partial T}{\\partial x} \\bigg|_{x_i, t_k} = \\frac{T^{k}_{i+1} - T^k_{i}}{\\Delta x} + R(\\Delta x)\n",
    "$$\n",
    "\n",
    "Transformamos uma derivada espacial em uma equação algébrica, que usa pontos vizinhos do domínio discreto numérico.\n",
    "\n",
    "Considere novamente a série de Taylor em torno de $x_i$, mas agora para a função $T$ em $x_{i-1}$:\n",
    "\n",
    "$$\n",
    "T^{k}_{i-1} = T^k_{i} - \\frac{\\Delta x}{1!} \\frac{\\partial T}{\\partial x} \\bigg|_{x_i, t_k} + \\frac{\\Delta x ^2}{2!} \\frac{\\partial ^ 2 T}{\\partial x ^ 2} \\bigg|_{x_i, t_k} - \\frac{\\Delta x ^3}{3!} \\frac{\\partial ^ 3 T}{\\partial x ^ 3} \\bigg|_{x_i, t_k} + ...\n",
    "$$\n",
    "\n",
    "podemos aproximar, portanto:\n",
    "$$\n",
    "\\frac{\\partial T}{\\partial x} \\bigg|_{x_i, t_k} \\approx \\frac{T^{k}_{i} - T^k_{i-1}}{\\Delta x}\n",
    "$$\n",
    "\n",
    "Como precisamos da segunda derivada temporal faremos $T^{k}_{i+1} + T^{k}_{i-1}$, o que nos dará:\n",
    "\n",
    "$$\n",
    "\\frac{\\partial ^ 2 T}{\\partial x ^ 2} \\bigg|_{x_i, t_k} = \\frac{T^{k}_{i+1} - 2 T^k_i + T^k_{i-1}}{\\Delta x ^2} + R(\\Delta x ^ 2)\n",
    "$$\n",
    "\n",
    "o que equivale a dizer que, \n",
    "$$\n",
    "\\frac{\\partial ^ 2 T}{\\partial x ^ 2} \\bigg|_{x_i, t_k} \\approx \\frac{T^{k}_{i+1} - 2 T^k_i + T^k_{i-1}}{\\Delta x ^2}\n",
    "$$\n",
    "\n",
    "## Aproximando derivadas temporais\n",
    "Similarmente ao apresentado anteriormente, podemos aproximar as derivadas temporais por expansões de série de taylor:\n",
    "\n",
    "$$\n",
    "T^{k + 1}_{i} = T^k_{i} + \\frac{\\Delta t}{1!} \\frac{\\partial T}{\\partial t} \\bigg|_{x_i, t_k} + \\frac{\\Delta t ^2}{2!} \\frac{\\partial ^ 2 T}{\\partial t ^ 2} \\bigg|_{x_i, t_k} + \\frac{\\Delta t ^3}{3!} \\frac{\\partial ^ 3 T}{\\partial t ^ 3} \\bigg|_{x_i, t_k} + ...\n",
    "$$\n",
    "\n",
    "ou ainda,\n",
    "\n",
    "$$\n",
    "\\frac{\\partial T}{\\partial t} \\bigg|_{x_i, t_k} \\approx \\frac{T^{k + 1}_{i} - T^k_{i}}{\\Delta t}\n",
    "$$\n",
    "\n",
    "## Substituindo as aproximações na equação original\n",
    "Seja a equação que modela nosso problema:\n",
    "$$\n",
    "\\frac{\\partial T}{\\partial t} = \\frac{\\partial ^ 2 }{\\partial t ^2}\n",
    "$$\n",
    "substituindo as approximações teremos:\n",
    "$$\n",
    "\\frac{T^{k + 1}_{i} - T^k_{i}}{\\Delta t} = \\frac{T^{k}_{i+1} - 2 T^k_i + T^k_{i-1}}{\\Delta x ^2}\n",
    "$$\n",
    "\n",
    "Essa é a nossa equação de diferenças finitas. Para cada ponto e em cada instante de tempo temos uma equação algébrica. Isso significa que transformamos uma única equação diferencial em várias equações algébricas.\n",
    "\n",
    "## Resolvendo\n",
    "Como no presente os valores em pontos espaciais distintos são conhecidos, podemos dizer que:\n",
    "\n",
    "$$\n",
    "T^{k + 1}_i = T^k_i + \\frac{\\Delta t}{\\Delta x^2} (T^k_{i+1} - 2 T^k_i + T^k_{i-1}) \n",
    "$$"
   ]
  },
  {
   "cell_type": "markdown",
   "metadata": {},
   "source": []
  }
 ],
 "metadata": {
  "interpreter": {
   "hash": "aee8b7b246df8f9039afb4144a1f6fd8d2ca17a180786b69acc140d282b71a49"
  },
  "kernelspec": {
   "display_name": "Python 3.10.1 64-bit",
   "language": "python",
   "name": "python3"
  },
  "language_info": {
   "name": "python",
   "version": "3.10.1"
  },
  "orig_nbformat": 4
 },
 "nbformat": 4,
 "nbformat_minor": 2
}
