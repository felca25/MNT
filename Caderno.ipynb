{
 "cells": [
  {
   "cell_type": "code",
   "execution_count": null,
   "metadata": {},
   "outputs": [],
   "source": [
    "import numpy as np\n",
    "\n"
   ]
  },
  {
   "cell_type": "markdown",
   "metadata": {},
   "source": [
    "### Aula 0\n",
    "---\n",
    "### Método Avaliativo\n",
    "\n",
    "$$\n",
    "MF = 0,1 Q + 0,6 TP + 0,3 TF\n",
    "$$\n",
    "\n",
    "$Q$ é a média dos questionários, $TP$ a média das notas dos trabalhos parciais, $TF$ a nota do trabalho final, artigo e apresentacão"
   ]
  },
  {
   "cell_type": "code",
   "execution_count": null,
   "metadata": {},
   "outputs": [],
   "source": [
    "class Mesh:\n",
    "    def __init__(self, mesh_dimensions: array, mesh_resolution: array) -> None:\n",
    "        "
   ]
  }
 ],
 "metadata": {
  "language_info": {
   "name": "python"
  },
  "orig_nbformat": 4
 },
 "nbformat": 4,
 "nbformat_minor": 2
}
