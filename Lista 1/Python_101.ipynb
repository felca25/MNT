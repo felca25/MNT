{
 "cells": [
  {
   "cell_type": "markdown",
   "metadata": {},
   "source": [
    "# Python 101\n",
    "## Introdução\n",
    "\n",
    "Python é uma linguagem de programação criada para ter um foco grande em legibilidade, isto significa que diferente de outrass linguagens de programacão como Assembly, Basic ou até mesmo C/C++, Python é muito mais fácil de ser aprendida e utilizada. Por essa razão muitos programas mais complexos como aprendizado de máquina, geracão de linguagem natural, etc. são muitas vezes escritos em python e traduzidos para uma linguagem mais \"*low level*\" que é outro conceito importante para nós.\n",
    "\n",
    "Uma linguagem *low level* é aquela que está mais próxima da linguagem de máquina falada pelo computador do que a linguagem humana, enquanto uma linguagem *high-level* tem mais proximidade da linguagem humana. Ambas tem suas vantagens e desvantagens, mas uma boa regra a se lebrar é que quanto mais alto é o nível da linguagem, mais devagar vai ser o processamento dela peplo computador, mas em compensasão, mais rápido é o tempo mde escrita do código.\n",
    "\n",
    "Vamos ilustrar este ponto com dois códigos que tradicionalmente são os primeiros códigos a se escrever quando comecamos a aprender uma nova linguagem de programacão, isto é, printar hello world."
   ]
  },
  {
   "cell_type": "code",
   "execution_count": null,
   "metadata": {},
   "outputs": [],
   "source": [
    "#include<iostream>\n",
    "\n",
    "using namespace std;\n",
    "\n",
    "void main(){\n",
    "    cout << \"hello world\" << endln;\n",
    "}"
   ]
  },
  {
   "cell_type": "code",
   "execution_count": null,
   "metadata": {},
   "outputs": [],
   "source": [
    "print(\"hello world\")"
   ]
  },
  {
   "cell_type": "markdown",
   "metadata": {},
   "source": [
    "Como podemos ver em uma comparacão entre C++ e Python, python é uma linguagem muito mais rápida de entender e escrever, mas os tempos de execucão entre as duas linguagens que de fato diferenciam as duas e consequentemente suas aplicacões."
   ]
  },
  {
   "cell_type": "markdown",
   "metadata": {},
   "source": [
    "## Conceitos Iniciais importantes\n",
    "o primeiro e um dos mais importantes conceitos em uma linguagem de programacão são seus tipos e como declarar suas variáveis. Para o python podemos listar os tipos mais importantes como:\n",
    "\n",
    "- `int` abreviacão para integer: é um tipo de variável que define números inteiros\n",
    "- `float`, define números reais \n",
    "- `str` abreviacão para string, que é uma lista de caracteres, podendo ser um nome, uma frase etc\n",
    "- `bool` bool é o tipo menos intuitivo, na minha opinião, é abreviacão para *boolean* que é uma variável que assume dois valores distintos:\n",
    "  - `True` ou `1` (verdadeiro)\n",
    "  - `False` ou `0`(falso)\n",
    "- `list` temos também list que é um tipo que faz listas de variáveis, elemtentos ou objetos de mesmo tipo"
   ]
  },
  {
   "cell_type": "code",
   "execution_count": null,
   "metadata": {},
   "outputs": [],
   "source": [
    "string = 'eu'\n",
    "integer = 2\n",
    "float = 4.2\n",
    "double"
   ]
  }
 ],
 "metadata": {
  "language_info": {
   "name": "python"
  },
  "orig_nbformat": 4
 },
 "nbformat": 4,
 "nbformat_minor": 2
}
