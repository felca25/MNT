{
 "cells": [
  {
   "cell_type": "code",
   "execution_count": null,
   "metadata": {},
   "outputs": [],
   "source": [
    "import numpy as np\n",
    "from matplotlib import pyplot as plt"
   ]
  },
  {
   "cell_type": "markdown",
   "metadata": {},
   "source": [
    "## Introducão teórica\n",
    "---\n",
    "\n",
    "### Métodos numéricos para Equacões DIferenciais Ordinárias\n",
    "\n",
    "Seja uma EDO de primeira ordem geral:\n",
    "$$\n",
    "\\bar{y'} =  f(t, \\bar{y}), \\\\ y(0) = y_o\n",
    "$$\n",
    "\n",
    "#### Método de Euler Explicito\n",
    "$$\n",
    "y_{n+1} = y_n + \\Delta t f_n\n",
    "$$\n",
    "\n",
    "#### Método de Euler Implícito\n",
    "$$\n",
    "y_{n+1} = y_n +\\Delta t f_{n+1}\n",
    "$$\n",
    "\n",
    "#### Runge-Kutta de segunda ordem\n",
    "$$\n",
    "y_n+1 = y_n + \\frac{1}{2} (k_1 + k_2) \\\\\n",
    "k_1 = \\Delta t f(t_n , y_n ) \\\\\n",
    "k_2 = \\Delta t f(t_n + \\Delta t, y_n + k_1)\n",
    "$$\n",
    "\n",
    "#### Runge-Kutta de quarta ordem\n",
    "$$\n",
    "y_{n+1} = y_n + \\frac{1}{6}(k_1 + 2k_2 + 2 k_3 + k_4),\\\\\n",
    "k_1 = \\Delta t f(t_n, y_n),\\\\\n",
    "k_2 = \\Delta t f ( t_n + \\frac{\\Delta t}{2}, y_n + \\frac{k_1}{2}),\\\\\n",
    "k_3 = \\Delta t f ( t_n + \\frac{\\Delta t}{2}, y_n + \\frac{k_2}{2}),\\\\\n",
    "k_4 = \\Delta t f ( t_n + \\Delta t, y_n + k_3)\n",
    "$$\n"
   ]
  },
  {
   "cell_type": "code",
   "execution_count": null,
   "metadata": {},
   "outputs": [],
   "source": []
  }
 ],
 "metadata": {
  "language_info": {
   "name": "python"
  },
  "orig_nbformat": 4
 },
 "nbformat": 4,
 "nbformat_minor": 2
}
