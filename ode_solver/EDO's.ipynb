{
 "cells": [
  {
   "cell_type": "code",
   "execution_count": 20,
   "metadata": {},
   "outputs": [],
   "source": [
    "import numpy as np\n",
    "from matplotlib import pyplot as plt"
   ]
  },
  {
   "cell_type": "markdown",
   "metadata": {},
   "source": [
    "## Introducão teórica\n",
    "---\n",
    "\n",
    "### Métodos numéricos para Equacões DIferenciais Ordinárias\n",
    "\n",
    "Seja uma EDO de primeira ordem geral:\n",
    "$$\n",
    "\\bar{y'} =  f(t, \\bar{y}), \\\\ y(0) = y_o\n",
    "$$\n",
    "\n",
    "#### Método de Euler Explicito\n",
    "$$\n",
    "y_{n+1} = y_n + \\Delta t f_n\n",
    "$$\n",
    "\n",
    "#### Método de Euler Implícito\n",
    "$$\n",
    "y_{n+1} = y_n +\\Delta t f_{n+1}\n",
    "$$\n",
    "\n",
    "#### Runge-Kutta de segunda ordem\n",
    "$$\n",
    "y_n+1 = y_n + \\frac{1}{2} (k_1 + k_2) \\\\\n",
    "k_1 = \\Delta t f(t_n , y_n ) \\\\\n",
    "k_2 = \\Delta t f(t_n + \\Delta t, y_n + k_1)\n",
    "$$\n",
    "\n",
    "#### Runge-Kutta de quarta ordem\n",
    "$$\n",
    "y_{n+1} = y_n + \\frac{1}{6}(k_1 + 2k_2 + 2 k_3 + k_4),\\\\\n",
    "k_1 = \\Delta t f(t_n, y_n),\\\\\n",
    "k_2 = \\Delta t f ( t_n + \\frac{\\Delta t}{2}, y_n + \\frac{k_1}{2}),\\\\\n",
    "k_3 = \\Delta t f ( t_n + \\frac{\\Delta t}{2}, y_n + \\frac{k_2}{2}),\\\\\n",
    "k_4 = \\Delta t f ( t_n + \\Delta t, y_n + k_3)\n",
    "$$\n"
   ]
  },
  {
   "cell_type": "code",
   "execution_count": 24,
   "metadata": {},
   "outputs": [],
   "source": [
    "'''iteração para determinar os valores de y'''\n",
    "def explicit_euler(t, y,y_bar, dt= 0.1):\n",
    "    \n",
    "    erro =np.zeros(len(t))\n",
    "    \n",
    "    for k in range(len(t) - 1):\n",
    "        # iteração para y_k+1 = (1 - dt) * y_k\n",
    "        y[k + 1] = (1. - dt) * y[k]\n",
    "        # calculo do erro de truncamento erro = |y - y_bar|\n",
    "        erro[k] = np.abs(y[k] - y_bar(t)[k])\n",
    "\n",
    "        # print(f'Tempo = {t[k+1]:.2f}, y = {y[k+1]:.5f}')\n",
    "        # print(f'Erro = {erro}')\n",
    "    \n",
    "    return [y, y_bar, erro]\n",
    "\n",
    "def implicit_euler(t, y, y_bar, dt= 0.1):\n",
    "    \n",
    "    erro =np.zeros(len(t))\n",
    "    \n",
    "    for k in range(len(t) - 1):\n",
    "        # iteração para y_k+1 = (1 - dt) * y_k\n",
    "        y[k + 1] =  y[k] / (1. + dt)\n",
    "        # calculo do erro de truncamento erro = |y - y_bar|\n",
    "        erro[k] = np.abs(y[k] - y_bar(t)[k])\n",
    "\n",
    "        # print(f'Tempo = {t[k+1]:.2f}, y = {y[k+1]:.5f}')\n",
    "        # print(f'Erro = {erro}')\n",
    "    \n",
    "    return [y, y_bar, erro]\n",
    "\n",
    "def plot_exp_euler(t, y, y_bar, erro, title='Método de Euler Explícito'):\n",
    "    fig1 = plt.figure()\n",
    "    plt.plot(t, y, 'bo')\n",
    "    plt.plot(t, y_bar(t), '--r')\n",
    "    plt.legend(['y aproximado', 'y exato'])\n",
    "    plt.title(title)\n",
    "    plt.xlabel('tempo discretizado t_n')\n",
    "    plt.ylabel('y')\n",
    "    fig2 = plt.figure()\n",
    "    plt.plot(t, erro, 'bo')\n",
    "    \n",
    "def plot_imp_euler(t, y, y_bar, erro, title='Método de Euler Implícito'):\n",
    "    fig1 = plt.figure()\n",
    "    plt.plot(t, y, 'bo')\n",
    "    plt.plot(t, y_bar(t), '--r')\n",
    "    plt.legend(['y aproximado', 'y exato'])\n",
    "    plt.title(title)\n",
    "    plt.xlabel('tempo discretizado t_n')\n",
    "    plt.ylabel('y')\n",
    "    fig2 = plt.figure()\n",
    "    plt.plot(t, erro, 'bo')\n",
    "    \n",
    "def plot_compare_euler(t, y_exp, y_imp, y_bar, erro_exp, erro_imp, \n",
    "                       title= 'Comparação entre Método de Euler Explícito e implícito'):\n",
    "    \n",
    "    fig1 = plt.figure()\n",
    "    plt.title(title)\n",
    "    \n",
    "    plt.plot(t, y_exp, 'bo')\n",
    "    plt.plot(t, y_imp, 'rx')\n",
    "    plt.plot(t, y_bar, '--b')\n",
    "    \n",
    "    plt.legend(['y explícito', 'y implícito', 'y exato'])\n",
    "    plt.xlabel('tempo t_n')\n",
    "    plt.ylabel('y')\n",
    "\n",
    "    fig2 = plt.figure()\n",
    "    plt.title(title)\n",
    "    plt.plot(t, erro_exp, 'bo')\n",
    "    plt.plot(t, erro_imp, 'rx')\n",
    "    "
   ]
  },
  {
   "cell_type": "code",
   "execution_count": 22,
   "metadata": {},
   "outputs": [
    {
     "data": {
      "image/png": "[encoded data removed]",
      "text/plain": [
       "<Figure size 432x288 with 1 Axes>"
      ]
     },
     "metadata": {
      "needs_background": "light"
     },
     "output_type": "display_data"
    },
    {
     "data": {
      "image/png": "[encoded data removed]",
      "text/plain": [
       "<Figure size 432x288 with 1 Axes>"
      ]
     },
     "metadata": {
      "needs_background": "light"
     },
     "output_type": "display_data"
    }
   ],
   "source": [
    "'''Definindo condições de contorno'''\n",
    "t_o = 0.\n",
    "t_final = 1.\n",
    "y_o = 1.\n",
    "dt = 0.2\n",
    "\n",
    "'''Definindo as arrays de tempo, y'''\n",
    "t = np.arange(t_o, t_final + dt, dt)\n",
    "y = np.zeros(len(t))\n",
    "y[0] = y_o\n",
    "\n",
    "''''definindo a função exata'''\n",
    "y_bar = lambda t : np.exp(-t)\n",
    "\n",
    "y_exp, y_bar, erro = explicit_euler(t, y, y_bar, dt)\n",
    "\n",
    "y_imp, y_bar_imp, erro_imp = implicit_euler(t, y, y_bar, dt)\n",
    "\n",
    "plot_compare_euler(t, y_exp, y_imp, y_bar(t), erro, erro_imp)\n",
    "\n",
    "plt.show()"
   ]
  }
 ],
 "metadata": {
  "interpreter": {
   "hash": "397704579725e15f5c7cb49fe5f0341eb7531c82d19f2c29d197e8b64ab5776b"
  },
  "kernelspec": {
   "display_name": "Python 3.9.6 64-bit",
   "language": "python",
   "name": "python3"
  },
  "language_info": {
   "codemirror_mode": {
    "name": "ipython",
    "version": 3
   },
   "file_extension": ".py",
   "mimetype": "text/x-python",
   "name": "python",
   "nbconvert_exporter": "python",
   "pygments_lexer": "ipython3",
   "version": "3.9.6"
  },
  "orig_nbformat": 4
 },
 "nbformat": 4,
 "nbformat_minor": 2
}
